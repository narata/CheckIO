{
 "cells": [
  {
   "cell_type": "markdown",
   "metadata": {},
   "source": [
    "# Problem\n",
    "In this mission you should write a function that introduce a person with a given parameters in attributes.\n",
    "\n",
    "### Input: \n",
    "Two arguments. String and positive integer.\n",
    "\n",
    "### Output: \n",
    "String.\n",
    "\n",
    "### Example:\n",
    "\n",
    "say_hi(\"Alex\", 32) == \"Hi. My name is Alex and I'm 32 years old\"\n",
    "\n",
    "say_hi(\"Frank\", 68) == \"Hi. My name is Frank and I'm 68 years old\""
   ]
  },
  {
   "cell_type": "markdown",
   "metadata": {},
   "source": [
    "# Test"
   ]
  },
  {
   "cell_type": "code",
   "execution_count": 1,
   "metadata": {},
   "outputs": [],
   "source": [
    "import re"
   ]
  },
  {
   "cell_type": "code",
   "execution_count": 7,
   "metadata": {},
   "outputs": [
    {
     "name": "stdout",
     "output_type": "stream",
     "text": [
      "Hi. My name is Alex and I'm 32 years old Alex 32\n"
     ]
    }
   ],
   "source": [
    "line = \"Hi. My name is Alex and I'm 32 years old\"\n",
    "matchObj = re.match(r'Hi. My name is (.*) and I\\'m ([0-9]*) years old', line)\n",
    "print(matchObj.group(), matchObj.group(1), matchObj.group(2))"
   ]
  },
  {
   "cell_type": "markdown",
   "metadata": {},
   "source": [
    "# MyCode"
   ]
  },
  {
   "cell_type": "code",
   "execution_count": 8,
   "metadata": {},
   "outputs": [
    {
     "name": "stdout",
     "output_type": "stream",
     "text": [
      "Done. Time to Check.\n"
     ]
    }
   ],
   "source": [
    "def say_hi(name, age):\n",
    "    return \"Hi. My name is {} and I'm {} years old\".format(name, age)\n",
    "\n",
    "\n",
    "if __name__ == '__main__':\n",
    "    assert say_hi(\"Alex\", 32) == \"Hi. My name is Alex and I'm 32 years old\", \"First\"\n",
    "    assert say_hi(\"Frank\", 68) == \"Hi. My name is Frank and I'm 68 years old\", \"Second\"\n",
    "    print('Done. Time to Check.')"
   ]
  }
 ],
 "metadata": {
  "kernelspec": {
   "display_name": "Python 3",
   "language": "python",
   "name": "python3"
  },
  "language_info": {
   "codemirror_mode": {
    "name": "ipython",
    "version": 3
   },
   "file_extension": ".py",
   "mimetype": "text/x-python",
   "name": "python",
   "nbconvert_exporter": "python",
   "pygments_lexer": "ipython3",
   "version": "3.6.4"
  }
 },
 "nbformat": 4,
 "nbformat_minor": 2
}
