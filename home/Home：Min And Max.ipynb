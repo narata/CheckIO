{
 "cells": [
  {
   "cell_type": "markdown",
   "metadata": {},
   "source": [
    "# 问题"
   ]
  },
  {
   "cell_type": "markdown",
   "metadata": {},
   "source": [
    "In this mission you should write you own py3 implementation (but you can use py2 for this) of the built-in functions min and max. Some builtin functions are closed here: import, eval, exec, globals. Don't forget you should implement two functions in your code.\n",
    "\n",
    "max(iterable, *[, key]) or min(iterable, *[, key])\n",
    "max(arg1, arg2, *args[, key]) or min(arg1, arg2, *args[, key])\n",
    "\n",
    "Return the largest (smallest) item in an iterable or the largest(smallest) of two or more arguments.\n",
    "\n",
    "If one positional argument is provided, it should be an iterable. The largest (smallest) item in the iterable is returned. If two or more positional arguments are provided, the largest (smallest) of the positional arguments is returned.\n",
    "\n",
    "The optional keyword-only key argument specifies a function of one argument that is used to extract a comparison key from each list element (for example, key=str.lower).\n",
    "\n",
    "If multiple items are maximal (minimal), the function returns the first one encountered.\n",
    "\n",
    "-- Python Documentation (Built-in Functions)\n",
    "\n",
    "### Input: \n",
    "One positional argument as an iterable or two or more positional arguments. Optional keyword argument as a function.\n",
    "\n",
    "### Output: \n",
    "The largest item for the \"max\" function and the smallest for the \"min\" function.\n",
    "\n",
    "### Example:\n",
    "\n",
    "max(3, 2) == 3\n",
    "\n",
    "min(3, 2) == 2\n",
    "\n",
    "max([1, 2, 0, 3, 4]) == 4\n",
    "\n",
    "min(\"hello\") == \"e\"\n",
    "\n",
    "max(2.2, 5.6, 5.9, key=int) == 5.6\n",
    "\n",
    "min([[1,2], [3, 4], [9, 0]], key=lambda x: x[1]) == [9, 0]\n",
    "\n",
    "### How it is used: \n",
    "This task will help you understand how some of the built-in functions work on a more precise level.\n",
    "\n",
    "### Precondition: \n",
    "All test cases are correct and functions don't have to raise exceptions."
   ]
  },
  {
   "cell_type": "markdown",
   "metadata": {},
   "source": [
    "# 测试\n"
   ]
  },
  {
   "cell_type": "code",
   "execution_count": 2,
   "metadata": {},
   "outputs": [
    {
     "data": {
      "text/plain": [
       "[2, 3, 4]"
      ]
     },
     "execution_count": 2,
     "metadata": {},
     "output_type": "execute_result"
    }
   ],
   "source": [
    "a = lambda x: x + 1\n",
    "b = [1, 2, 3]\n",
    "[a(c) for c in b]"
   ]
  },
  {
   "cell_type": "code",
   "execution_count": 11,
   "metadata": {},
   "outputs": [
    {
     "ename": "SyntaxError",
     "evalue": "invalid syntax (<ipython-input-11-45fafc371eb1>, line 2)",
     "output_type": "error",
     "traceback": [
      "\u001b[1;36m  File \u001b[1;32m\"<ipython-input-11-45fafc371eb1>\"\u001b[1;36m, line \u001b[1;32m2\u001b[0m\n\u001b[1;33m    b = lambda yield:buf for buf in a\u001b[0m\n\u001b[1;37m                   ^\u001b[0m\n\u001b[1;31mSyntaxError\u001b[0m\u001b[1;31m:\u001b[0m invalid syntax\n"
     ]
    }
   ],
   "source": [
    "a = [1, 2, 3]\n",
    "b = lambda yield:buf for buf in a\n",
    "b.next()"
   ]
  }
 ],
 "metadata": {
  "kernelspec": {
   "display_name": "Python 2",
   "language": "python",
   "name": "python2"
  },
  "language_info": {
   "codemirror_mode": {
    "name": "ipython",
    "version": 2
   },
   "file_extension": ".py",
   "mimetype": "text/x-python",
   "name": "python",
   "nbconvert_exporter": "python",
   "pygments_lexer": "ipython2",
   "version": "2.7.13"
  }
 },
 "nbformat": 4,
 "nbformat_minor": 2
}
