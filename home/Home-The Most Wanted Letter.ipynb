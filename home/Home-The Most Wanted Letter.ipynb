{
 "cells": [
  {
   "cell_type": "markdown",
   "metadata": {},
   "source": [
    "# 测试"
   ]
  },
  {
   "cell_type": "code",
   "execution_count": 7,
   "metadata": {},
   "outputs": [
    {
     "name": "stdout",
     "output_type": "stream",
     "text": [
      "how do you do?\n"
     ]
    },
    {
     "data": {
      "text/plain": [
       "['h', 'o', 'w', 'd', 'o', 'y', 'o', 'u', 'd', 'o']"
      ]
     },
     "execution_count": 7,
     "metadata": {},
     "output_type": "execute_result"
    }
   ],
   "source": [
    "text = 'How do you do?'\n",
    "text = text.lower()\n",
    "print text\n",
    "import re\n",
    "re.findall('[a-zA-z]', text)"
   ]
  },
  {
   "cell_type": "code",
   "execution_count": 12,
   "metadata": {},
   "outputs": [
    {
     "name": "stdout",
     "output_type": "stream",
     "text": [
      "{'d': 2, 'h': 1, 'o': 4, 'u': 1, 'w': 1, 'y': 1}\n"
     ]
    }
   ],
   "source": [
    "text = text.lower()\n",
    "buf = re.findall('[a-zA-z]', text)\n",
    "result = {}\n",
    "for letter in buf:\n",
    "    if letter not in result.keys():\n",
    "        result[letter] = 1\n",
    "    else:\n",
    "        result[letter] += 1\n",
    "print result\n",
    "#sorted(result.keys)"
   ]
  }
 ],
 "metadata": {
  "kernelspec": {
   "display_name": "Python 2",
   "language": "python",
   "name": "python2"
  },
  "language_info": {
   "codemirror_mode": {
    "name": "ipython",
    "version": 2
   },
   "file_extension": ".py",
   "mimetype": "text/x-python",
   "name": "python",
   "nbconvert_exporter": "python",
   "pygments_lexer": "ipython2",
   "version": "2.7.13"
  }
 },
 "nbformat": 4,
 "nbformat_minor": 2
}
