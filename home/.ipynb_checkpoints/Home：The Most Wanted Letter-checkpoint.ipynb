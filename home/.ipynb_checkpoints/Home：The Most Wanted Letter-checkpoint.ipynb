{
 "cells": [
  {
   "cell_type": "markdown",
   "metadata": {},
   "source": [
    "# 测试"
   ]
  },
  {
   "cell_type": "code",
   "execution_count": 26,
   "metadata": {},
   "outputs": [
    {
     "name": "stdout",
     "output_type": "stream",
     "text": [
      "how do you ??????dodd?\n"
     ]
    },
    {
     "data": {
      "text/plain": [
       "['h', 'o', 'w', 'd', 'o', 'y', 'o', 'u', 'd', 'o', 'd', 'd']"
      ]
     },
     "execution_count": 26,
     "metadata": {},
     "output_type": "execute_result"
    }
   ],
   "source": [
    "text = 'How do you ??????dodd?'\n",
    "text = text.lower()\n",
    "print text\n",
    "import re\n",
    "re.findall('[a-zA-z]', text)"
   ]
  },
  {
   "cell_type": "code",
   "execution_count": 27,
   "metadata": {},
   "outputs": [
    {
     "data": {
      "text/plain": [
       "'d'"
      ]
     },
     "execution_count": 27,
     "metadata": {},
     "output_type": "execute_result"
    }
   ],
   "source": [
    "max(string.ascii_lowercase, key=text.count)"
   ]
  },
  {
   "cell_type": "code",
   "execution_count": 15,
   "metadata": {},
   "outputs": [],
   "source": [
    "text = text.lower()\n",
    "buf = re.findall('[a-zA-z]', text)\n",
    "result = {}\n",
    "for letter in buf:\n",
    "    if letter not in result.keys():\n",
    "        result[letter] = 1\n",
    "    else:\n",
    "        result[letter] += 1\n",
    "result = sorted(result.items(), key=lambda item:item[1], reverse=True)\n",
    "letters = []\n",
    "num = result[0][1]"
   ]
  },
  {
   "cell_type": "code",
   "execution_count": 38,
   "metadata": {},
   "outputs": [
    {
     "name": "stdout",
     "output_type": "stream",
     "text": [
      "('max(array1,)=', 4)\n"
     ]
    },
    {
     "data": {
      "text/plain": [
       "True"
      ]
     },
     "execution_count": 38,
     "metadata": {},
     "output_type": "execute_result"
    }
   ],
   "source": [
    "array1 = range(10)  \n",
    "print('max(array1,)=', max(array1, key=lambda x: x > 3) ) \n",
    "a = lambda x: x > 3\n",
    "a(array1)"
   ]
  },
  {
   "cell_type": "markdown",
   "metadata": {},
   "source": [
    "# 我的"
   ]
  },
  {
   "cell_type": "code",
   "execution_count": 18,
   "metadata": {
    "scrolled": true
   },
   "outputs": [
    {
     "name": "stdout",
     "output_type": "stream",
     "text": [
      "Start the long test\n",
      "The local tests are done.\n"
     ]
    }
   ],
   "source": [
    "import re\n",
    "\n",
    "\n",
    "def checkio(text):\n",
    "    text = text.lower()\n",
    "    buf = re.findall('[a-zA-z]', text)\n",
    "    result = {}\n",
    "    for letter in buf:\n",
    "        if letter not in result.keys():\n",
    "            result[letter] = 1\n",
    "        else:\n",
    "            result[letter] += 1\n",
    "    result = sorted(result.items(), key=lambda item:item[1], reverse=True)\n",
    "    letters = []\n",
    "    num = result[0][1]\n",
    "    for buf in result:\n",
    "        if buf[1] == num:\n",
    "            letters.append(buf[0])\n",
    "    return sorted(letters)[0]\n",
    "    # replace this for solution\n",
    "#     return 'a'\n",
    "\n",
    "\n",
    "if __name__ == '__main__':\n",
    "    # These \"asserts\" using only for self-checking and not necessary for auto-testing\n",
    "    assert checkio(\"Hello World!\") == \"l\", \"Hello test\"\n",
    "    assert checkio(\"How do you do?\") == \"o\", \"O is most wanted\"\n",
    "    assert checkio(\"One\") == \"e\", \"All letter only once.\"\n",
    "    assert checkio(\"Oops!\") == \"o\", \"Don't forget about lower case.\"\n",
    "    assert checkio(\"AAaooo!!!!\") == \"a\", \"Only letters.\"\n",
    "    assert checkio(\"abe\") == \"a\", \"The First.\"\n",
    "    print(\"Start the long test\")\n",
    "    assert checkio(\"a\" * 9000 + \"b\" * 1000) == \"a\", \"Long.\"\n",
    "    print(\"The local tests are done.\")"
   ]
  },
  {
   "cell_type": "markdown",
   "metadata": {},
   "source": [
    "# 牛逼代码"
   ]
  },
  {
   "cell_type": "code",
   "execution_count": 24,
   "metadata": {
    "collapsed": true
   },
   "outputs": [],
   "source": [
    "import string\n",
    "\n",
    "def checkio(text):\n",
    "    \"\"\"\n",
    "    We iterate through latyn alphabet and count each letter in the text.\n",
    "    Then 'max' selects the most frequent letter.\n",
    "    For the case when we have several equal letter,\n",
    "    'max' selects the first from they.\n",
    "    \"\"\"\n",
    "    text = text.lower()\n",
    "    return max(string.ascii_lowercase, key=text.count)"
   ]
  }
 ],
 "metadata": {
  "kernelspec": {
   "display_name": "Python 2",
   "language": "python",
   "name": "python2"
  },
  "language_info": {
   "codemirror_mode": {
    "name": "ipython",
    "version": 2
   },
   "file_extension": ".py",
   "mimetype": "text/x-python",
   "name": "python",
   "nbconvert_exporter": "python",
   "pygments_lexer": "ipython2",
   "version": "2.7.13"
  }
 },
 "nbformat": 4,
 "nbformat_minor": 2
}
