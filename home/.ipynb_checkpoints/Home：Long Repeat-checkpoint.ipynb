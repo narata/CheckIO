{
 "cells": [
  {
   "cell_type": "markdown",
   "metadata": {},
   "source": [
    "# Problem"
   ]
  },
  {
   "cell_type": "markdown",
   "metadata": {},
   "source": [
    "This mission is the first one of the series. Here you should find the length of the longest substring that consists of the same letter. For example, line \"aaabbcaaaa\" contains four substrings with the same letters \"aaa\", \"bb\",\"c\" and \"aaaa\". The last substring is the longest one which makes it an answer.\n",
    "\n",
    "### Input: \n",
    "String.\n",
    "\n",
    "### Output: \n",
    "Int.\n",
    "\n",
    "### Example:\n",
    "\n",
    "long_repeat('sdsffffse') == 4\n",
    "\n",
    "long_repeat('ddvvrwwwrggg') == 3"
   ]
  },
  {
   "cell_type": "markdown",
   "metadata": {},
   "source": [
    "# My Code"
   ]
  },
  {
   "cell_type": "code",
   "execution_count": 1,
   "metadata": {},
   "outputs": [
    {
     "name": "stdout",
     "output_type": "stream",
     "text": [
      "\"Run\" is good. How is \"Check\"?\n"
     ]
    }
   ],
   "source": [
    "def long_repeat(line):\n",
    "    if len(line) < 2:\n",
    "        return len(line)\n",
    "    x = 1\n",
    "    result = {}\n",
    "    for i in range(0, len(line)-1):\n",
    "        if line[i] == line[i+1]:\n",
    "            x += 1\n",
    "            result[i] = x\n",
    "        else:\n",
    "            result[i] = x\n",
    "            x = 1\n",
    "    return sorted(result.items(), key=lambda item: item[1])[-1][1]\n",
    "\n",
    "\n",
    "if __name__ == '__main__':\n",
    "    assert long_repeat('sdsffffse') == 4, \"First\"\n",
    "    assert long_repeat('ddvvrwwwrggg') == 3, \"Second\"\n",
    "    assert long_repeat('abababaab') == 2, \"Third\"\n",
    "    assert long_repeat('abababa') == 1, \"Empty\"\n",
    "    print('\"Run\" is good. How is \"Check\"?')\n"
   ]
  },
  {
   "cell_type": "markdown",
   "metadata": {},
   "source": [
    "# NB Code"
   ]
  },
  {
   "cell_type": "code",
   "execution_count": 2,
   "metadata": {},
   "outputs": [
    {
     "name": "stdout",
     "output_type": "stream",
     "text": [
      "\"Run\" is good. How is \"Check\"?\n"
     ]
    }
   ],
   "source": [
    "from itertools import groupby\n",
    "def long_repeat(line):\n",
    "    if len(line) > 0:\n",
    "        return len(sorted([''.join(x) for z, x in groupby(line)], key = len)[-1])\n",
    "    else:\n",
    "        return 0\n",
    "\n",
    "if __name__ == '__main__':\n",
    "    #These \"asserts\" using only for self-checking and not necessary for auto-testing\n",
    "    assert long_repeat('sdsffffse') == 4, \"First\"\n",
    "    assert long_repeat('ddvvrwwwrggg') == 3, \"Second\"\n",
    "    print('\"Run\" is good. How is \"Check\"?')"
   ]
  }
 ],
 "metadata": {
  "kernelspec": {
   "display_name": "Python 3",
   "language": "python",
   "name": "python3"
  },
  "language_info": {
   "codemirror_mode": {
    "name": "ipython",
    "version": 3
   },
   "file_extension": ".py",
   "mimetype": "text/x-python",
   "name": "python",
   "nbconvert_exporter": "python",
   "pygments_lexer": "ipython3",
   "version": "3.6.4"
  }
 },
 "nbformat": 4,
 "nbformat_minor": 2
}
