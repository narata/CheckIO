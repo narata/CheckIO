{
 "cells": [
  {
   "cell_type": "markdown",
   "metadata": {},
   "source": [
    "# 问题"
   ]
  },
  {
   "cell_type": "markdown",
   "metadata": {},
   "source": [
    "In this mission you should write you own py3 implementation (but you can use py2 for this) of the built-in functions min and max. Some builtin functions are closed here: import, eval, exec, globals. Don't forget you should implement two functions in your code.\n",
    "\n",
    "max(iterable, *[, key]) or min(iterable, *[, key])\n",
    "max(arg1, arg2, *args[, key]) or min(arg1, arg2, *args[, key])\n",
    "\n",
    "Return the largest (smallest) item in an iterable or the largest(smallest) of two or more arguments.\n",
    "\n",
    "If one positional argument is provided, it should be an iterable. The largest (smallest) item in the iterable is returned. If two or more positional arguments are provided, the largest (smallest) of the positional arguments is returned.\n",
    "\n",
    "The optional keyword-only key argument specifies a function of one argument that is used to extract a comparison key from each list element (for example, key=str.lower).\n",
    "\n",
    "If multiple items are maximal (minimal), the function returns the first one encountered.\n",
    "\n",
    "-- Python Documentation (Built-in Functions)\n",
    "\n",
    "### Input: \n",
    "One positional argument as an iterable or two or more positional arguments. Optional keyword argument as a function.\n",
    "\n",
    "### Output: \n",
    "The largest item for the \"max\" function and the smallest for the \"min\" function.\n",
    "\n",
    "### Example:\n",
    "\n",
    "max(3, 2) == 3\n",
    "\n",
    "min(3, 2) == 2\n",
    "\n",
    "max([1, 2, 0, 3, 4]) == 4\n",
    "\n",
    "min(\"hello\") == \"e\"\n",
    "\n",
    "max(2.2, 5.6, 5.9, key=int) == 5.6\n",
    "\n",
    "min([[1,2], [3, 4], [9, 0]], key=lambda x: x[1]) == [9, 0]\n",
    "\n",
    "### How it is used: \n",
    "This task will help you understand how some of the built-in functions work on a more precise level.\n",
    "\n",
    "### Precondition: \n",
    "All test cases are correct and functions don't have to raise exceptions."
   ]
  },
  {
   "cell_type": "markdown",
   "metadata": {},
   "source": [
    "# 测试\n"
   ]
  },
  {
   "cell_type": "code",
   "execution_count": 2,
   "metadata": {},
   "outputs": [
    {
     "data": {
      "text/plain": [
       "[2, 3, 4]"
      ]
     },
     "execution_count": 2,
     "metadata": {},
     "output_type": "execute_result"
    }
   ],
   "source": [
    "a = lambda x: x + 1\n",
    "b = [1, 2, 3]\n",
    "[a(c) for c in b]"
   ]
  },
  {
   "cell_type": "code",
   "execution_count": 12,
   "metadata": {},
   "outputs": [
    {
     "data": {
      "text/plain": [
       "1"
      ]
     },
     "execution_count": 12,
     "metadata": {},
     "output_type": "execute_result"
    }
   ],
   "source": [
    "a = [1, 2, 3]\n",
    "b = (buf for buf in a)\n",
    "b.next()"
   ]
  },
  {
   "cell_type": "markdown",
   "metadata": {},
   "source": [
    "# My Code"
   ]
  },
  {
   "cell_type": "code",
   "execution_count": 13,
   "metadata": {},
   "outputs": [
    {
     "name": "stdout",
     "output_type": "stream",
     "text": [
      "Coding complete? Click 'Check' to review your tests and earn cool rewards!\n"
     ]
    }
   ],
   "source": [
    "import collections\n",
    "\n",
    "\n",
    "def min(*args, **kwargs):\n",
    "    args = args[0] if len(args) == 1 else args\n",
    "    if not isinstance(args, collections.Iterable):\n",
    "        return args\n",
    "    args = [buf for buf in args]\n",
    "    key = kwargs.get(\"key\", None)\n",
    "    if key is not None:\n",
    "        args_later = [key(buf) for buf in args]\n",
    "    else:\n",
    "        args_later = args\n",
    "    result = args[0]\n",
    "    result_later = args_later[0]\n",
    "    for i in range(1, len(args)):\n",
    "        if args_later[i] < result_later:\n",
    "            result = args[i]\n",
    "            result_later = args_later[i]\n",
    "    return result\n",
    "\n",
    "\n",
    "def max(*args, **kwargs):\n",
    "    args = args[0] if len(args) == 1 else args\n",
    "    if not isinstance(args, collections.Iterable):\n",
    "        return args\n",
    "    args = [buf for buf in args]\n",
    "    key = kwargs.get(\"key\", None)\n",
    "    if key is not None:\n",
    "        args_later = [key(buf) for buf in args]\n",
    "    else:\n",
    "        args_later = args\n",
    "    result = args[0]\n",
    "    result_later = args_later[0]\n",
    "    for i in range(1, len(args)):\n",
    "        if args_later[i] > result_later:\n",
    "            result = args[i]\n",
    "            result_later = args_later[i]\n",
    "    return result\n",
    "\n",
    "\n",
    "if __name__ == '__main__':\n",
    "    assert max(3, 2) == 3, \"Simple case max\"\n",
    "    assert min(3, 2) == 2, \"Simple case min\"\n",
    "    assert max([1, 2, 0, 3, 4]) == 4, \"From a list\"\n",
    "    assert min(\"hello\") == \"e\", \"From string\"\n",
    "    assert max(2.2, 5.6, 5.9, key=int) == 5.6, \"Two maximal items\"\n",
    "    assert min([[1, 2], [3, 4], [9, 0]], key=lambda x: x[1]) == [9, 0], \"lambda key\"\n",
    "    print(\"Coding complete? Click 'Check' to review your tests and earn cool rewards!\")"
   ]
  },
  {
   "cell_type": "markdown",
   "metadata": {},
   "source": [
    "# NB Code"
   ]
  },
  {
   "cell_type": "code",
   "execution_count": 16,
   "metadata": {},
   "outputs": [
    {
     "ename": "SyntaxError",
     "evalue": "invalid syntax (<ipython-input-16-2df26aed6f06>, line 5)",
     "output_type": "error",
     "traceback": [
      "\u001b[1;36m  File \u001b[1;32m\"<ipython-input-16-2df26aed6f06>\"\u001b[1;36m, line \u001b[1;32m5\u001b[0m\n\u001b[1;33m    def f(*args, key=lambda x: x):\u001b[0m\n\u001b[1;37m                   ^\u001b[0m\n\u001b[1;31mSyntaxError\u001b[0m\u001b[1;31m:\u001b[0m invalid syntax\n"
     ]
    }
   ],
   "source": [
    "from functools import reduce\n",
    "\n",
    "\n",
    "def abs_method(c):\n",
    "    def f(*args, key=lambda x: x):\n",
    "        if len(args) == 1: args = args[0]\n",
    "        return reduce(lambda a, b: b if c(a[1], b[1]) else a, map(lambda x: (x, key(x)), args))[0]\n",
    "    return f\n",
    "\n",
    "min = abs_method(lambda a, b: a > b)\n",
    "max = abs_method(lambda a, b: a < b)\n",
    "\n",
    "if __name__ == '__main__':\n",
    "    assert max(3, 2) == 3, \"Simple case max\"\n",
    "    assert min(3, 2) == 2, \"Simple case min\"\n",
    "    assert max([1, 2, 0, 3, 4]) == 4, \"From a list\"\n",
    "    assert min(\"hello\") == \"e\", \"From string\"\n",
    "    assert max(2.2, 5.6, 5.9, key=int) == 5.6, \"Two maximal items\"\n",
    "    assert min([[1, 2], [3, 4], [9, 0]], key=lambda x: x[1]) == [9, 0], \"lambda key\""
   ]
  },
  {
   "cell_type": "code",
   "execution_count": 17,
   "metadata": {},
   "outputs": [
    {
     "ename": "SyntaxError",
     "evalue": "invalid syntax (<ipython-input-17-8a18ba1a63b8>, line 7)",
     "output_type": "error",
     "traceback": [
      "\u001b[1;36m  File \u001b[1;32m\"<ipython-input-17-8a18ba1a63b8>\"\u001b[1;36m, line \u001b[1;32m7\u001b[0m\n\u001b[1;33m    def min(*args, key=None):\u001b[0m\n\u001b[1;37m                     ^\u001b[0m\n\u001b[1;31mSyntaxError\u001b[0m\u001b[1;31m:\u001b[0m invalid syntax\n"
     ]
    }
   ],
   "source": [
    "def get_first_from_sorted(args, key, reverse):\n",
    "    if len(args) == 1:\n",
    "        args = iter(args[0])\n",
    "    return sorted(args, key=key, reverse=reverse)[0]\n",
    "\n",
    "\n",
    "def min(*args, key=None):\n",
    "    return get_first_from_sorted(args, key, False)\n",
    "\n",
    "\n",
    "def max(*args, key=None):\n",
    "    return get_first_from_sorted(args, key, True)"
   ]
  }
 ],
 "metadata": {
  "kernelspec": {
   "display_name": "Python 2",
   "language": "python",
   "name": "python2"
  },
  "language_info": {
   "codemirror_mode": {
    "name": "ipython",
    "version": 2
   },
   "file_extension": ".py",
   "mimetype": "text/x-python",
   "name": "python",
   "nbconvert_exporter": "python",
   "pygments_lexer": "ipython2",
   "version": "2.7.13"
  }
 },
 "nbformat": 4,
 "nbformat_minor": 2
}
