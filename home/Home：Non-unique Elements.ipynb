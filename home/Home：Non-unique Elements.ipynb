{
 "cells": [
  {
   "cell_type": "markdown",
   "metadata": {},
   "source": [
    "# 题目\n"
   ]
  },
  {
   "cell_type": "markdown",
   "metadata": {},
   "source": [
    "You are given a non-empty list of integers (X). For this task, you should return a list consisting of only the non-unique elements in this list. To do so you will need to remove all unique elements (elements which are contained in a given list only once). When solving this task, do not change the order of the list. Example: [1, 2, 3, 1, 3] 1 and 3 non-unique elements and result will be [1, 3, 1, 3].\n",
    "\n",
    "non-unique-elements\n",
    "\n",
    "### Input: \n",
    "A list of integers.\n",
    "\n",
    "### Output: \n",
    "The list of integers.\n",
    "\n",
    "### Example:\n",
    "\n",
    "checkio([1, 2, 3, 1, 3]) == [1, 3, 1, 3]\n",
    "\n",
    "checkio([1, 2, 3, 4, 5]) == []\n",
    "\n",
    "checkio([5, 5, 5, 5, 5]) == [5, 5, 5, 5, 5]\n",
    "\n",
    "checkio([10, 9, 10, 10, 9, 8]) == [10, 9, 10, 10, 9]\n",
    "\n",
    "How it is used: This mission will help you to understand how to manipulate arrays, something that is the basis for solving more complex tasks. The concept can be easily generalized for real world tasks. For example: if you need to clarify statistics by removing low frequency elements (noise).\n",
    "\n",
    "You can find out more about Python arrays in one of our articles featuring lists, tuples, array.array and numpy.array."
   ]
  },
  {
   "cell_type": "markdown",
   "metadata": {},
   "source": [
    "# 我的"
   ]
  },
  {
   "cell_type": "code",
   "execution_count": 2,
   "metadata": {},
   "outputs": [
    {
     "name": "stdout",
     "output_type": "stream",
     "text": [
      "It is all good. Let's check it now\n"
     ]
    }
   ],
   "source": [
    "def checkio(data):\n",
    "    result = []\n",
    "    for i in data:\n",
    "        buf = data.count(i)\n",
    "        if buf > 1:\n",
    "            result.append(i)\n",
    "    return result\n",
    "\n",
    "\n",
    "if __name__ == \"__main__\":\n",
    "    assert list(checkio([1, 2, 3, 1, 3])) == [1, 3, 1, 3], \"1st example\"\n",
    "    assert list(checkio([1, 2, 3, 4, 5])) == [], \"2nd example\"\n",
    "    assert list(checkio([5, 5, 5, 5, 5])) == [5, 5, 5, 5, 5], \"3rd example\"\n",
    "    assert list(checkio([10, 9, 10, 10, 9, 8])) == [10, 9, 10, 10, 9], \"4th example\"\n",
    "    print(\"It is all good. Let's check it now\")"
   ]
  },
  {
   "cell_type": "markdown",
   "metadata": {},
   "source": [
    "# 牛逼代码"
   ]
  },
  {
   "cell_type": "code",
   "execution_count": 3,
   "metadata": {
    "collapsed": true
   },
   "outputs": [],
   "source": [
    "def checkio(data):\n",
    "        return [i for i in data if data.count(i) > 1]\n",
    "\n",
    "if __name__ == \"__main__\":\n",
    "    assert isinstance(checkio([1]), list), \"The result must be a list\"\n",
    "    assert checkio([1, 2, 3, 1, 3]) == [1, 3, 1, 3], \"1st example\"\n",
    "    assert checkio([1, 2, 3, 4, 5]) == [], \"2nd example\"\n",
    "    assert checkio([5, 5, 5, 5, 5]) == [5, 5, 5, 5, 5], \"3rd example\"\n",
    "    assert checkio([10, 9, 10, 10, 9, 8]) == [10, 9, 10, 10, 9], \"4th example\""
   ]
  }
 ],
 "metadata": {
  "kernelspec": {
   "display_name": "Python 2",
   "language": "python",
   "name": "python2"
  },
  "language_info": {
   "codemirror_mode": {
    "name": "ipython",
    "version": 2
   },
   "file_extension": ".py",
   "mimetype": "text/x-python",
   "name": "python",
   "nbconvert_exporter": "python",
   "pygments_lexer": "ipython2",
   "version": "2.7.13"
  }
 },
 "nbformat": 4,
 "nbformat_minor": 2
}
