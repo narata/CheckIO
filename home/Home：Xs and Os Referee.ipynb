{
 "cells": [
  {
   "cell_type": "markdown",
   "metadata": {},
   "source": [
    "# 问题"
   ]
  },
  {
   "cell_type": "markdown",
   "metadata": {},
   "source": [
    "Tic-Tac-Toe, sometimes also known as Xs and Os, is a game for two players (X and O) who take turns marking the spaces in a 3×3 grid. The player who succeeds in placing three respective marks in a horizontal, vertical, or diagonal rows (NW-SE and NE-SW) wins the game.\n",
    "\n",
    "But we will not be playing this game. You will be the referee for this games results. You are given a result of a game and you must determine if the game ends in a win or a draw as well as who will be the winner. Make sure to return \"X\" if the X-player wins and \"O\" if the O-player wins. If the game is a draw, return \"D\".\n",
    "\n",
    "\n",
    "A game's result is presented as a list of strings, where \"X\" and \"O\" are players' marks and \".\" is the empty cell.\n",
    "\n",
    "### Input: \n",
    "A game result as a list of strings (unicode).\n",
    "\n",
    "### Output: \n",
    "\"X\", \"O\" or \"D\" as a string.\n",
    "\n",
    "### Example:\n",
    "\n",
    "checkio([\n",
    "\n",
    "    \"X.O\",\n",
    "    \"XX.\",\n",
    "    \"XOO\"]) == \"X\"\n",
    "    \n",
    "checkio([\n",
    "\n",
    "    \"OO.\",\n",
    "    \"XOX\",\n",
    "    \"XOX\"]) == \"O\"\n",
    "    \n",
    "checkio([\n",
    "\n",
    "    \"OOX\",\n",
    "    \"XXO\",\n",
    "    \"OXX\"]) == \"D\"\n",
    "    \n",
    "How it is used: The concepts in this task will help you when iterating data types. They can also be used in game algorithms, allowing you to know how to check results."
   ]
  },
  {
   "cell_type": "markdown",
   "metadata": {},
   "source": [
    "# 测试 "
   ]
  },
  {
   "cell_type": "code",
   "execution_count": 6,
   "metadata": {
    "collapsed": true
   },
   "outputs": [],
   "source": [
    "import numpy as np"
   ]
  },
  {
   "cell_type": "code",
   "execution_count": 11,
   "metadata": {},
   "outputs": [
    {
     "data": {
      "text/plain": [
       "array(['XX.', 'XOO'], \n",
       "      dtype='|S3')"
      ]
     },
     "execution_count": 11,
     "metadata": {},
     "output_type": "execute_result"
    }
   ],
   "source": [
    "a = [\"X.O\",\"XX.\",\"XOO\"]\n",
    "b = np.array(a)\n",
    "b[1::]"
   ]
  },
  {
   "cell_type": "code",
   "execution_count": 12,
   "metadata": {},
   "outputs": [
    {
     "data": {
      "text/plain": [
       "True"
      ]
     },
     "execution_count": 12,
     "metadata": {},
     "output_type": "execute_result"
    }
   ],
   "source": [
    "1==1==1"
   ]
  },
  {
   "cell_type": "markdown",
   "metadata": {},
   "source": [
    "# 我的代码"
   ]
  },
  {
   "cell_type": "code",
   "execution_count": 13,
   "metadata": {},
   "outputs": [
    {
     "name": "stdout",
     "output_type": "stream",
     "text": [
      "Coding complete? Click 'Check' to review your tests and earn cool rewards!\n"
     ]
    }
   ],
   "source": [
    "def checkio(game_result):\n",
    "    for i in range(0, 3):\n",
    "        if game_result[i][0] == game_result[i][1] and game_result[i][0] == game_result[i][2]:\n",
    "            if not game_result[i][0] == '.':\n",
    "                return game_result[i][0]\n",
    "        if game_result[0][i] == game_result[1][i] and game_result[0][i] == game_result[2][i]:\n",
    "            if not game_result[0][i] == '.':\n",
    "                return game_result[0][i]\n",
    "    \n",
    "    if game_result[0][0] == game_result[1][1] == game_result[2][2]:\n",
    "        if not game_result[0][0] == '.':\n",
    "            return game_result[0][0]\n",
    "    if game_result[2][0] == game_result[1][1] == game_result[0][2]:\n",
    "        if not game_result[2][0] == '.':\n",
    "            return game_result[2][0]\n",
    "\n",
    "    return \"D\"\n",
    "\n",
    "if __name__ == '__main__':\n",
    "    assert checkio([\n",
    "        \"X.O\",\n",
    "        \"XX.\",\n",
    "        \"XOO\"]) == \"X\", \"Xs wins\"\n",
    "    assert checkio([\n",
    "        \"OO.\",\n",
    "        \"XOX\",\n",
    "        \"XOX\"]) == \"O\", \"Os wins\"\n",
    "    assert checkio([\n",
    "        \"OOX\",\n",
    "        \"XXO\",\n",
    "        \"OXX\"]) == \"D\", \"Draw\"\n",
    "    assert checkio([\n",
    "        \"O.X\",\n",
    "        \"XX.\",\n",
    "        \"XOO\"]) == \"X\", \"Xs wins again\"\n",
    "    print(\"Coding complete? Click 'Check' to review your tests and earn cool rewards!\")"
   ]
  },
  {
   "cell_type": "markdown",
   "metadata": {},
   "source": [
    "# 牛逼代码\n",
    "\n",
    "没有太牛逼的"
   ]
  }
 ],
 "metadata": {
  "kernelspec": {
   "display_name": "Python 2",
   "language": "python",
   "name": "python2"
  },
  "language_info": {
   "codemirror_mode": {
    "name": "ipython",
    "version": 2
   },
   "file_extension": ".py",
   "mimetype": "text/x-python",
   "name": "python",
   "nbconvert_exporter": "python",
   "pygments_lexer": "ipython2",
   "version": "2.7.13"
  }
 },
 "nbformat": 4,
 "nbformat_minor": 2
}
