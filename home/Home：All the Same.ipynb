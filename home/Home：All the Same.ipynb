{
 "cells": [
  {
   "cell_type": "markdown",
   "metadata": {},
   "source": [
    "# Problem\n",
    "In this mission you should check if all elements in the given list are equal.\n",
    "\n",
    "### Input: \n",
    "List.\n",
    "\n",
    "### Output: \n",
    "Bool.\n",
    "\n",
    "### Example:\n",
    "\n",
    "all_the_same([1, 1, 1]) == True\n",
    "all_the_same([1, 2, 1]) == False\n",
    "all_the_same(['a', 'a', 'a']) == True\n",
    "all_the_same([]) == True"
   ]
  },
  {
   "cell_type": "markdown",
   "metadata": {},
   "source": [
    "# My Code"
   ]
  },
  {
   "cell_type": "code",
   "execution_count": 1,
   "metadata": {},
   "outputs": [
    {
     "name": "stdout",
     "output_type": "stream",
     "text": [
      "Example:\n",
      "True\n",
      "Coding complete? Click 'Check' to earn cool rewards!\n"
     ]
    }
   ],
   "source": [
    "from typing import List, Any\n",
    "from itertools import groupby\n",
    "\n",
    "\n",
    "def all_the_same(elements: List[Any]) -> bool:\n",
    "    return True if len([x for x, z in groupby(elements)]) in (0, 1) else False\n",
    "\n",
    "\n",
    "if __name__ == '__main__':\n",
    "    print(\"Example:\")\n",
    "    print(all_the_same([1, 1, 1]))\n",
    "    \n",
    "    assert all_the_same([1, 1, 1]) == True\n",
    "    assert all_the_same([1, 2, 1]) == False\n",
    "    assert all_the_same(['a', 'a', 'a']) == True\n",
    "    assert all_the_same([]) == True\n",
    "    assert all_the_same([1]) == True\n",
    "    print(\"Coding complete? Click 'Check' to earn cool rewards!\")"
   ]
  },
  {
   "cell_type": "markdown",
   "metadata": {},
   "source": [
    "# NB Code"
   ]
  },
  {
   "cell_type": "code",
   "execution_count": 2,
   "metadata": {},
   "outputs": [
    {
     "name": "stdout",
     "output_type": "stream",
     "text": [
      "Example:\n",
      "True\n",
      "Coding complete? Click 'Check' to earn cool rewards!\n"
     ]
    }
   ],
   "source": [
    "from typing import List, Any\n",
    "\n",
    "\n",
    "def all_the_same(elements: List[Any]) -> bool:\n",
    "    # your code here\n",
    "    return len(set(elements))==1 if len(elements)!=0 else True\n",
    "\n",
    "\n",
    "if __name__ == '__main__':\n",
    "    print(\"Example:\")\n",
    "    print(all_the_same([1, 1, 1]))\n",
    "    \n",
    "    # These \"asserts\" are used for self-checking and not for an auto-testing\n",
    "    assert all_the_same([1, 1, 1]) == True\n",
    "    assert all_the_same([1, 2, 1]) == False\n",
    "    assert all_the_same(['a', 'a', 'a']) == True\n",
    "    assert all_the_same([]) == True\n",
    "    assert all_the_same([1]) == True\n",
    "    print(\"Coding complete? Click 'Check' to earn cool rewards!\")"
   ]
  }
 ],
 "metadata": {
  "kernelspec": {
   "display_name": "Python 3",
   "language": "python",
   "name": "python3"
  },
  "language_info": {
   "codemirror_mode": {
    "name": "ipython",
    "version": 3
   },
   "file_extension": ".py",
   "mimetype": "text/x-python",
   "name": "python",
   "nbconvert_exporter": "python",
   "pygments_lexer": "ipython3",
   "version": "3.6.4"
  }
 },
 "nbformat": 4,
 "nbformat_minor": 2
}
