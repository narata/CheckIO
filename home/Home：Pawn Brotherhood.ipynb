{
 "cells": [
  {
   "cell_type": "markdown",
   "metadata": {},
   "source": [
    "# 问题"
   ]
  },
  {
   "cell_type": "markdown",
   "metadata": {},
   "source": [
    "### 国际象棋"
   ]
  },
  {
   "cell_type": "markdown",
   "metadata": {},
   "source": [
    "# 测试"
   ]
  },
  {
   "cell_type": "code",
   "execution_count": 14,
   "metadata": {},
   "outputs": [
    {
     "data": {
      "text/plain": [
       "'h'"
      ]
     },
     "execution_count": 14,
     "metadata": {},
     "output_type": "execute_result"
    }
   ],
   "source": [
    "letters = \"hgfedcba\"\n",
    "letters[0]"
   ]
  },
  {
   "cell_type": "markdown",
   "metadata": {},
   "source": [
    "# 我的代码"
   ]
  },
  {
   "cell_type": "code",
   "execution_count": 15,
   "metadata": {},
   "outputs": [
    {
     "name": "stdout",
     "output_type": "stream",
     "text": [
      "Coding complete? Click 'Check' to review your tests and earn cool rewards!\n"
     ]
    }
   ],
   "source": [
    "def safe_pawns(pawns):\n",
    "    result = 0\n",
    "    for pawn in pawns:\n",
    "        for i in [-1, 1]:\n",
    "            data = chr(ord(pawn[0])-i) + str(int(pawn[1])-1)\n",
    "            if data in pawns:\n",
    "                result += 1\n",
    "                break\n",
    "    return result\n",
    "    \n",
    "\n",
    "if __name__ == '__main__':\n",
    "    assert safe_pawns({\"b4\", \"d4\", \"f4\", \"c3\", \"e3\", \"g5\", \"d2\"}) == 6\n",
    "    assert safe_pawns({\"b4\", \"c4\", \"d4\", \"e4\", \"f4\", \"g4\", \"e5\"}) == 1\n",
    "    print(\"Coding complete? Click 'Check' to review your tests and earn cool rewards!\")\n"
   ]
  }
 ],
 "metadata": {
  "kernelspec": {
   "display_name": "Python 2",
   "language": "python",
   "name": "python2"
  },
  "language_info": {
   "codemirror_mode": {
    "name": "ipython",
    "version": 2
   },
   "file_extension": ".py",
   "mimetype": "text/x-python",
   "name": "python",
   "nbconvert_exporter": "python",
   "pygments_lexer": "ipython2",
   "version": "2.7.13"
  }
 },
 "nbformat": 4,
 "nbformat_minor": 2
}
