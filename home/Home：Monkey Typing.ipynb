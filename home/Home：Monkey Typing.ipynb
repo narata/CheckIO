{
 "cells": [
  {
   "cell_type": "markdown",
   "metadata": {},
   "source": [
    "# 题目"
   ]
  },
  {
   "cell_type": "markdown",
   "metadata": {},
   "source": [
    "# Let's suppose our monkeys are typing, typing and typing, and have produced a wide variety of short text segments. Let's try to check them for sensible word inclusions.\n",
    "\n",
    "You are given some text potentially including sensible words. You should count how many words are included in the given text. A word should be whole and may be a part of other word. Text letter case does not matter. Words are given in lowercase and don't repeat. If a word appears several times in the text, it should be counted only once.\n",
    "\n",
    "For example, text - \"How aresjfhdskfhskd you?\", words - (\"how\", \"are\", \"you\", \"hello\"). The result will be 3.\n",
    "\n",
    "### Input: \n",
    "Two arguments. A text as a string (unicode for py2) and words as a set of strings (unicode for py2).\n",
    "\n",
    "### Output: \n",
    "The number of words in the text as an integer.\n",
    "\n",
    "### Example:\n",
    "\n",
    "count_words(\"How aresjfhdskfhskd you?\", {\"how\", \"are\", \"you\", \"hello\"}) == 3\n",
    "\n",
    "count_words(\"Bananas, give me bananas!!!\", {\"banana\", \"bananas\"}) == 2\n",
    "\n",
    "count_words(\"Lorem ipsum dolor sit amet, consectetuer adipiscing elit.\",\n",
    "            {\"sum\", \"hamlet\", \"infinity\", \"anything\"}) == 1\n",
    "\n",
    "### How it is used: \n",
    "Python is a useful and powerful language for text processing. This mission is only a simple example of the kind of text searching tools you could build.\n",
    "\n",
    "### Precondition:\n",
    "0 < len(text) ≤ 256\n",
    "all(3 ≤ len(w) and w.islower() and w.isalpha for w in words)"
   ]
  },
  {
   "cell_type": "markdown",
   "metadata": {},
   "source": [
    "# 测试"
   ]
  },
  {
   "cell_type": "code",
   "execution_count": 3,
   "metadata": {},
   "outputs": [
    {
     "name": "stdout",
     "output_type": "stream",
     "text": [
      "How aresjfhdskfhskd you?\n"
     ]
    }
   ],
   "source": [
    "text = \"How aresjfhdskfhskd you?\"\n",
    "text.lower()\n",
    "print text"
   ]
  },
  {
   "cell_type": "markdown",
   "metadata": {},
   "source": [
    "# 我的代码"
   ]
  },
  {
   "cell_type": "code",
   "execution_count": 4,
   "metadata": {},
   "outputs": [
    {
     "name": "stdout",
     "output_type": "stream",
     "text": [
      "Coding complete? Click 'Check' to review your tests and earn cool rewards!\n"
     ]
    }
   ],
   "source": [
    "def count_words(text, words):\n",
    "    text = text.lower()\n",
    "    \n",
    "    return [word for word in words if word in text].__len__()\n",
    "\n",
    "\n",
    "if __name__ == '__main__':\n",
    "    assert count_words(\"How aresjfhdskfhskd you?\", {\"how\", \"are\", \"you\", \"hello\"}) == 3, \"Example\"\n",
    "    assert count_words(\"Bananas, give me bananas!!!\", {\"banana\", \"bananas\"}) == 2, \"BANANAS!\"\n",
    "    assert count_words(\"Lorem ipsum dolor sit amet, consectetuer adipiscing elit.\",\n",
    "                       {\"sum\", \"hamlet\", \"infinity\", \"anything\"}) == 1, \"Weird text\"\n",
    "    print(\"Coding complete? Click 'Check' to review your tests and earn cool rewards!\")"
   ]
  },
  {
   "cell_type": "markdown",
   "metadata": {},
   "source": [
    "# 牛逼代码\n",
    "\n",
    "和我一样"
   ]
  }
 ],
 "metadata": {
  "kernelspec": {
   "display_name": "Python 2",
   "language": "python",
   "name": "python2"
  },
  "language_info": {
   "codemirror_mode": {
    "name": "ipython",
    "version": 2
   },
   "file_extension": ".py",
   "mimetype": "text/x-python",
   "name": "python",
   "nbconvert_exporter": "python",
   "pygments_lexer": "ipython2",
   "version": "2.7.13"
  }
 },
 "nbformat": 4,
 "nbformat_minor": 2
}
