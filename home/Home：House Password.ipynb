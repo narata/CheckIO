{
 "cells": [
  {
   "cell_type": "markdown",
   "metadata": {},
   "source": [
    "# 题目"
   ]
  },
  {
   "cell_type": "markdown",
   "metadata": {},
   "source": [
    "Stephan and Sophia forget about security and use simple passwords for everything. Help Nikola develop a password security check module. The password will be considered strong enough if its length is greater than or equal to 10 symbols, it has at least one digit, as well as containing one uppercase letter and one lowercase letter in it. The password contains only ASCII latin letters or digits.\n",
    "\n",
    "## Input: \n",
    "A password as a string.\n",
    "\n",
    "## Output: \n",
    "Is the password safe or not as a boolean or any data type that can be converted and processed as a boolean. In the results you will see the converted results.\n",
    "\n",
    "## Example:\n",
    "\n",
    "checkio('A1213pokl') == False\n",
    "\n",
    "checkio('bAse730onE') == True\n",
    "\n",
    "checkio('asasasasasasasaas') == False\n",
    "\n",
    "checkio('QWERTYqwerty') == False\n",
    "\n",
    "checkio('123456123456') == False\n",
    "\n",
    "checkio('QwErTy911poqqqq') == True\n",
    "\n",
    "How it is used: If you are worried about the security of your app or service, you can check your users' passwords for complexity. You can use these skills to require that your users passwords meet more conditions (punctuations or unicode).\n",
    "\n",
    "## Precondition:\n",
    "re.match(\"[a-zA-Z0-9]+\", password)\n",
    "0 < len(password) ≤ 64"
   ]
  },
  {
   "cell_type": "markdown",
   "metadata": {},
   "source": [
    "# 正则基础"
   ]
  },
  {
   "cell_type": "code",
   "execution_count": null,
   "metadata": {
    "collapsed": true
   },
   "outputs": [],
   "source": [
    "import re"
   ]
  },
  {
   "cell_type": "code",
   "execution_count": 30,
   "metadata": {
    "scrolled": true
   },
   "outputs": [
    {
     "name": "stdout",
     "output_type": "stream",
     "text": [
      "<_sre.SRE_Match object at 0x0000000008A9D7E8>\n"
     ]
    }
   ],
   "source": [
    "print(re.match(\"[a-zA-Z0-9]+\", \"1a11a1\"))"
   ]
  },
  {
   "cell_type": "code",
   "execution_count": 34,
   "metadata": {},
   "outputs": [
    {
     "data": {
      "text/plain": [
       "8"
      ]
     },
     "execution_count": 34,
     "metadata": {},
     "output_type": "execute_result"
    }
   ],
   "source": [
    "len(re.findall(\"[a-z]\", \"111aaazzz333fd\"))"
   ]
  },
  {
   "cell_type": "code",
   "execution_count": 1,
   "metadata": {},
   "outputs": [
    {
     "name": "stdout",
     "output_type": "stream",
     "text": [
      "2.7.13 (v2.7.13:a06454b1afa1, Dec 17 2016, 20:53:40) [MSC v.1500 64 bit (AMD64)]\n"
     ]
    }
   ],
   "source": [
    "import sys\n",
    "print sys.version"
   ]
  },
  {
   "cell_type": "markdown",
   "metadata": {},
   "source": [
    "# 我的答案"
   ]
  },
  {
   "cell_type": "code",
   "execution_count": 35,
   "metadata": {},
   "outputs": [
    {
     "name": "stdout",
     "output_type": "stream",
     "text": [
      "Coding complete? Click 'Check' to review your tests and earn cool rewards!\n"
     ]
    }
   ],
   "source": [
    "import re\n",
    "def checkio(data):\n",
    "    if len(data) < 10:\n",
    "        return False\n",
    "    if not re.match('[a-zA-Z0-9]+', data):\n",
    "        return False\n",
    "    if len(re.findall('[a-z]', data)) < 1 or len(re.findall('[A-Z]', data)) < 1 or len(re.findall('[0-9]', data)) < 1:\n",
    "        return False\n",
    "    #replace this for solution\n",
    "    return True\n",
    "\n",
    "#Some hints\n",
    "#Just check all conditions\n",
    "\n",
    "\n",
    "if __name__ == '__main__':\n",
    "    #These \"asserts\" using only for self-checking and not necessary for auto-testing\n",
    "    assert checkio('A1213pokl') == False, \"1st example\"\n",
    "    assert checkio('bAse730onE4') == True, \"2nd example\"\n",
    "    assert checkio('asasasasasasasaas') == False, \"3rd example\"\n",
    "    assert checkio('QWERTYqwerty') == False, \"4th example\"\n",
    "    assert checkio('123456123456') == False, \"5th example\"\n",
    "    assert checkio('QwErTy911poqqqq') == True, \"6th example\"\n",
    "    print(\"Coding complete? Click 'Check' to review your tests and earn cool rewards!\")"
   ]
  },
  {
   "cell_type": "markdown",
   "metadata": {},
   "source": [
    "# 别人的答案"
   ]
  },
  {
   "cell_type": "code",
   "execution_count": 36,
   "metadata": {},
   "outputs": [
    {
     "ename": "NameError",
     "evalue": "name 'data' is not defined",
     "output_type": "error",
     "traceback": [
      "\u001b[1;31m---------------------------------------------------------------------------\u001b[0m",
      "\u001b[1;31mNameError\u001b[0m                                 Traceback (most recent call last)",
      "\u001b[1;32m<ipython-input-36-389f6b1195e1>\u001b[0m in \u001b[0;36m<module>\u001b[1;34m()\u001b[0m\n\u001b[1;32m----> 1\u001b[1;33m \u001b[0mre\u001b[0m\u001b[1;33m.\u001b[0m\u001b[0msearch\u001b[0m\u001b[1;33m(\u001b[0m\u001b[1;34m\"^(?=.*\\d)(?=.*[a-z])(?=.*[A-Z]).*$\"\u001b[0m\u001b[1;33m,\u001b[0m \u001b[0mdata\u001b[0m\u001b[1;33m)\u001b[0m\u001b[1;33m\u001b[0m\u001b[0m\n\u001b[0m",
      "\u001b[1;31mNameError\u001b[0m: name 'data' is not defined"
     ]
    }
   ],
   "source": [
    "re.search(\"^(?=.*\\d)(?=.*[a-z])(?=.*[A-Z]).*$\", data)"
   ]
  }
 ],
 "metadata": {
  "kernelspec": {
   "display_name": "Python 2",
   "language": "python",
   "name": "python2"
  },
  "language_info": {
   "codemirror_mode": {
    "name": "ipython",
    "version": 2
   },
   "file_extension": ".py",
   "mimetype": "text/x-python",
   "name": "python",
   "nbconvert_exporter": "python",
   "pygments_lexer": "ipython2",
   "version": "2.7.13"
  }
 },
 "nbformat": 4,
 "nbformat_minor": 2
}
